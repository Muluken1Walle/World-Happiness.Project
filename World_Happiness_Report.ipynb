{
  "cells": [
    {
      "cell_type": "markdown",
      "metadata": {
        "id": "view-in-github",
        "colab_type": "text"
      },
      "source": [
        "<a href=\"https://colab.research.google.com/github/Muluken1Walle/World-Happiness.Project/blob/main/World_Happiness_Report.ipynb\" target=\"_parent\"><img src=\"https://colab.research.google.com/assets/colab-badge.svg\" alt=\"Open In Colab\"/></a>"
      ]
    },
    {
      "cell_type": "code",
      "execution_count": 264,
      "metadata": {
        "id": "NujR0n9AlceH"
      },
      "outputs": [],
      "source": [
        "\n",
        "from sklearn.preprocessing import StandardScaler\n",
        "import matplotlib.pyplot as plt \n",
        "import numpy as np\n",
        "import pandas as pd "
      ]
    },
    {
      "cell_type": "code",
      "execution_count": 265,
      "metadata": {
        "id": "uSn0t0hgmC78"
      },
      "outputs": [],
      "source": [
        "data15=pd.read_csv('/content/drive/MyDrive/WorldHappines/2015 (1).csv')\n",
        "data16=pd.read_csv('/content/drive/MyDrive/WorldHappines/2016.csv')\n",
        "data17=pd.read_csv('/content/drive/MyDrive/WorldHappines/2017.csv')\n",
        "data18=pd.read_csv('/content/drive/MyDrive/WorldHappines/2018.csv')\n",
        "data19=pd.read_csv('/content/drive/MyDrive/WorldHappines/2019.csv')\n",
        "\n"
      ]
    },
    {
      "cell_type": "code",
      "source": [
        "data=pd.DataFrame()\n",
        "data['2015']=pd.Series(data15.columns.tolist())\n",
        "data[\"2016\"]=pd.Series(data16.columns.tolist())\n",
        "data[\"2017\"]=pd.Series(data17.columns.tolist())\n",
        "data[\"2018\"]=pd.Series(data18.columns.tolist())\n",
        "data[\"2019\"]=pd.Series(data19.columns.tolist())\n",
        "data"
      ],
      "metadata": {
        "colab": {
          "base_uri": "https://localhost:8080/",
          "height": 426
        },
        "id": "BymmaSywzruQ",
        "outputId": "d90d13a1-99af-4c59-f05f-0bcfad9499f7"
      },
      "execution_count": 267,
      "outputs": [
        {
          "output_type": "execute_result",
          "data": {
            "text/plain": [
              "                             2015                           2016  \\\n",
              "0                         Country                        Country   \n",
              "1                          Region                         Region   \n",
              "2                  Happiness Rank                 Happiness Rank   \n",
              "3                 Happiness Score                Happiness Score   \n",
              "4                  Standard Error      Lower Confidence Interval   \n",
              "5        Economy (GDP per Capita)      Upper Confidence Interval   \n",
              "6                          Family       Economy (GDP per Capita)   \n",
              "7        Health (Life Expectancy)                         Family   \n",
              "8                         Freedom       Health (Life Expectancy)   \n",
              "9   Trust (Government Corruption)                        Freedom   \n",
              "10                     Generosity  Trust (Government Corruption)   \n",
              "11              Dystopia Residual                     Generosity   \n",
              "\n",
              "                             2017                          2018  \\\n",
              "0                         Country                  Overall rank   \n",
              "1                  Happiness.Rank             Country or region   \n",
              "2                 Happiness.Score                         Score   \n",
              "3                    Whisker.high                GDP per capita   \n",
              "4                     Whisker.low                Social support   \n",
              "5        Economy..GDP.per.Capita.       Healthy life expectancy   \n",
              "6                          Family  Freedom to make life choices   \n",
              "7        Health..Life.Expectancy.                    Generosity   \n",
              "8                         Freedom     Perceptions of corruption   \n",
              "9                      Generosity                           NaN   \n",
              "10  Trust..Government.Corruption.                           NaN   \n",
              "11              Dystopia.Residual                           NaN   \n",
              "\n",
              "                            2019  \n",
              "0                   Overall rank  \n",
              "1              Country or region  \n",
              "2                          Score  \n",
              "3                 GDP per capita  \n",
              "4                 Social support  \n",
              "5        Healthy life expectancy  \n",
              "6   Freedom to make life choices  \n",
              "7                     Generosity  \n",
              "8      Perceptions of corruption  \n",
              "9                            NaN  \n",
              "10                           NaN  \n",
              "11                           NaN  "
            ],
            "text/html": [
              "\n",
              "  <div id=\"df-d22c6d46-9466-409b-90d4-d926f622b433\">\n",
              "    <div class=\"colab-df-container\">\n",
              "      <div>\n",
              "<style scoped>\n",
              "    .dataframe tbody tr th:only-of-type {\n",
              "        vertical-align: middle;\n",
              "    }\n",
              "\n",
              "    .dataframe tbody tr th {\n",
              "        vertical-align: top;\n",
              "    }\n",
              "\n",
              "    .dataframe thead th {\n",
              "        text-align: right;\n",
              "    }\n",
              "</style>\n",
              "<table border=\"1\" class=\"dataframe\">\n",
              "  <thead>\n",
              "    <tr style=\"text-align: right;\">\n",
              "      <th></th>\n",
              "      <th>2015</th>\n",
              "      <th>2016</th>\n",
              "      <th>2017</th>\n",
              "      <th>2018</th>\n",
              "      <th>2019</th>\n",
              "    </tr>\n",
              "  </thead>\n",
              "  <tbody>\n",
              "    <tr>\n",
              "      <th>0</th>\n",
              "      <td>Country</td>\n",
              "      <td>Country</td>\n",
              "      <td>Country</td>\n",
              "      <td>Overall rank</td>\n",
              "      <td>Overall rank</td>\n",
              "    </tr>\n",
              "    <tr>\n",
              "      <th>1</th>\n",
              "      <td>Region</td>\n",
              "      <td>Region</td>\n",
              "      <td>Happiness.Rank</td>\n",
              "      <td>Country or region</td>\n",
              "      <td>Country or region</td>\n",
              "    </tr>\n",
              "    <tr>\n",
              "      <th>2</th>\n",
              "      <td>Happiness Rank</td>\n",
              "      <td>Happiness Rank</td>\n",
              "      <td>Happiness.Score</td>\n",
              "      <td>Score</td>\n",
              "      <td>Score</td>\n",
              "    </tr>\n",
              "    <tr>\n",
              "      <th>3</th>\n",
              "      <td>Happiness Score</td>\n",
              "      <td>Happiness Score</td>\n",
              "      <td>Whisker.high</td>\n",
              "      <td>GDP per capita</td>\n",
              "      <td>GDP per capita</td>\n",
              "    </tr>\n",
              "    <tr>\n",
              "      <th>4</th>\n",
              "      <td>Standard Error</td>\n",
              "      <td>Lower Confidence Interval</td>\n",
              "      <td>Whisker.low</td>\n",
              "      <td>Social support</td>\n",
              "      <td>Social support</td>\n",
              "    </tr>\n",
              "    <tr>\n",
              "      <th>5</th>\n",
              "      <td>Economy (GDP per Capita)</td>\n",
              "      <td>Upper Confidence Interval</td>\n",
              "      <td>Economy..GDP.per.Capita.</td>\n",
              "      <td>Healthy life expectancy</td>\n",
              "      <td>Healthy life expectancy</td>\n",
              "    </tr>\n",
              "    <tr>\n",
              "      <th>6</th>\n",
              "      <td>Family</td>\n",
              "      <td>Economy (GDP per Capita)</td>\n",
              "      <td>Family</td>\n",
              "      <td>Freedom to make life choices</td>\n",
              "      <td>Freedom to make life choices</td>\n",
              "    </tr>\n",
              "    <tr>\n",
              "      <th>7</th>\n",
              "      <td>Health (Life Expectancy)</td>\n",
              "      <td>Family</td>\n",
              "      <td>Health..Life.Expectancy.</td>\n",
              "      <td>Generosity</td>\n",
              "      <td>Generosity</td>\n",
              "    </tr>\n",
              "    <tr>\n",
              "      <th>8</th>\n",
              "      <td>Freedom</td>\n",
              "      <td>Health (Life Expectancy)</td>\n",
              "      <td>Freedom</td>\n",
              "      <td>Perceptions of corruption</td>\n",
              "      <td>Perceptions of corruption</td>\n",
              "    </tr>\n",
              "    <tr>\n",
              "      <th>9</th>\n",
              "      <td>Trust (Government Corruption)</td>\n",
              "      <td>Freedom</td>\n",
              "      <td>Generosity</td>\n",
              "      <td>NaN</td>\n",
              "      <td>NaN</td>\n",
              "    </tr>\n",
              "    <tr>\n",
              "      <th>10</th>\n",
              "      <td>Generosity</td>\n",
              "      <td>Trust (Government Corruption)</td>\n",
              "      <td>Trust..Government.Corruption.</td>\n",
              "      <td>NaN</td>\n",
              "      <td>NaN</td>\n",
              "    </tr>\n",
              "    <tr>\n",
              "      <th>11</th>\n",
              "      <td>Dystopia Residual</td>\n",
              "      <td>Generosity</td>\n",
              "      <td>Dystopia.Residual</td>\n",
              "      <td>NaN</td>\n",
              "      <td>NaN</td>\n",
              "    </tr>\n",
              "  </tbody>\n",
              "</table>\n",
              "</div>\n",
              "      <button class=\"colab-df-convert\" onclick=\"convertToInteractive('df-d22c6d46-9466-409b-90d4-d926f622b433')\"\n",
              "              title=\"Convert this dataframe to an interactive table.\"\n",
              "              style=\"display:none;\">\n",
              "        \n",
              "  <svg xmlns=\"http://www.w3.org/2000/svg\" height=\"24px\"viewBox=\"0 0 24 24\"\n",
              "       width=\"24px\">\n",
              "    <path d=\"M0 0h24v24H0V0z\" fill=\"none\"/>\n",
              "    <path d=\"M18.56 5.44l.94 2.06.94-2.06 2.06-.94-2.06-.94-.94-2.06-.94 2.06-2.06.94zm-11 1L8.5 8.5l.94-2.06 2.06-.94-2.06-.94L8.5 2.5l-.94 2.06-2.06.94zm10 10l.94 2.06.94-2.06 2.06-.94-2.06-.94-.94-2.06-.94 2.06-2.06.94z\"/><path d=\"M17.41 7.96l-1.37-1.37c-.4-.4-.92-.59-1.43-.59-.52 0-1.04.2-1.43.59L10.3 9.45l-7.72 7.72c-.78.78-.78 2.05 0 2.83L4 21.41c.39.39.9.59 1.41.59.51 0 1.02-.2 1.41-.59l7.78-7.78 2.81-2.81c.8-.78.8-2.07 0-2.86zM5.41 20L4 18.59l7.72-7.72 1.47 1.35L5.41 20z\"/>\n",
              "  </svg>\n",
              "      </button>\n",
              "      \n",
              "  <style>\n",
              "    .colab-df-container {\n",
              "      display:flex;\n",
              "      flex-wrap:wrap;\n",
              "      gap: 12px;\n",
              "    }\n",
              "\n",
              "    .colab-df-convert {\n",
              "      background-color: #E8F0FE;\n",
              "      border: none;\n",
              "      border-radius: 50%;\n",
              "      cursor: pointer;\n",
              "      display: none;\n",
              "      fill: #1967D2;\n",
              "      height: 32px;\n",
              "      padding: 0 0 0 0;\n",
              "      width: 32px;\n",
              "    }\n",
              "\n",
              "    .colab-df-convert:hover {\n",
              "      background-color: #E2EBFA;\n",
              "      box-shadow: 0px 1px 2px rgba(60, 64, 67, 0.3), 0px 1px 3px 1px rgba(60, 64, 67, 0.15);\n",
              "      fill: #174EA6;\n",
              "    }\n",
              "\n",
              "    [theme=dark] .colab-df-convert {\n",
              "      background-color: #3B4455;\n",
              "      fill: #D2E3FC;\n",
              "    }\n",
              "\n",
              "    [theme=dark] .colab-df-convert:hover {\n",
              "      background-color: #434B5C;\n",
              "      box-shadow: 0px 1px 3px 1px rgba(0, 0, 0, 0.15);\n",
              "      filter: drop-shadow(0px 1px 2px rgba(0, 0, 0, 0.3));\n",
              "      fill: #FFFFFF;\n",
              "    }\n",
              "  </style>\n",
              "\n",
              "      <script>\n",
              "        const buttonEl =\n",
              "          document.querySelector('#df-d22c6d46-9466-409b-90d4-d926f622b433 button.colab-df-convert');\n",
              "        buttonEl.style.display =\n",
              "          google.colab.kernel.accessAllowed ? 'block' : 'none';\n",
              "\n",
              "        async function convertToInteractive(key) {\n",
              "          const element = document.querySelector('#df-d22c6d46-9466-409b-90d4-d926f622b433');\n",
              "          const dataTable =\n",
              "            await google.colab.kernel.invokeFunction('convertToInteractive',\n",
              "                                                     [key], {});\n",
              "          if (!dataTable) return;\n",
              "\n",
              "          const docLinkHtml = 'Like what you see? Visit the ' +\n",
              "            '<a target=\"_blank\" href=https://colab.research.google.com/notebooks/data_table.ipynb>data table notebook</a>'\n",
              "            + ' to learn more about interactive tables.';\n",
              "          element.innerHTML = '';\n",
              "          dataTable['output_type'] = 'display_data';\n",
              "          await google.colab.output.renderOutput(dataTable, element);\n",
              "          const docLink = document.createElement('div');\n",
              "          docLink.innerHTML = docLinkHtml;\n",
              "          element.appendChild(docLink);\n",
              "        }\n",
              "      </script>\n",
              "    </div>\n",
              "  </div>\n",
              "  "
            ]
          },
          "metadata": {},
          "execution_count": 267
        }
      ]
    },
    {
      "cell_type": "markdown",
      "source": [
        "# Features have same name with slight difference \n",
        "Happines Rank / Happines.Rank /Overall Rank\n",
        "\n",
        "Happiness Score /Happiness.score/ Score \n",
        "\n",
        "Economy ( GDP per Capita)/ Econonmy..GDP.per.capita / GDP Per Capita\n",
        "\n",
        "Health (Life Expectancy)/ Health.Life.Expectancy/ Healthy life expectancy\n",
        "\n",
        "freddom/freedom to make life choices \n",
        "\n",
        "Trust( Government Corruption)/Trust.. Government Corruption / perception of corruption \n",
        "\n",
        "# Features are not in all years \n",
        "\n",
        "2015, 2017,2018: Dystopia Residual/Dystoopia.Residual\n",
        "\n",
        " 2015   : Standard Error \n",
        "\n",
        "2016 : lower confidence interval , upper confidence interval\n",
        "\n",
        "2017: WHiskers High/ WHiskers low \n",
        "\n"
      ],
      "metadata": {
        "id": "1weYTUqd28v6"
      }
    },
    {
      "cell_type": "code",
      "source": [
        "#renaming Country\n",
        "data18.rename(columns={'Country or region':'Country'},inplace=True)\n",
        "data19.rename(columns={'Country or region':'Country'},inplace=True)\n"
      ],
      "metadata": {
        "id": "BrAnJ0K-1ZC8"
      },
      "execution_count": 268,
      "outputs": []
    },
    {
      "cell_type": "code",
      "source": [
        "data16.columns"
      ],
      "metadata": {
        "colab": {
          "base_uri": "https://localhost:8080/"
        },
        "id": "i2I1Zh5yei8p",
        "outputId": "5109dea2-aef6-4d4a-c06e-2728c12daa08"
      },
      "execution_count": 269,
      "outputs": [
        {
          "output_type": "execute_result",
          "data": {
            "text/plain": [
              "Index(['Country', 'Region', 'Happiness Rank', 'Happiness Score',\n",
              "       'Lower Confidence Interval', 'Upper Confidence Interval',\n",
              "       'Economy (GDP per Capita)', 'Family', 'Health (Life Expectancy)',\n",
              "       'Freedom', 'Trust (Government Corruption)', 'Generosity',\n",
              "       'Dystopia Residual'],\n",
              "      dtype='object')"
            ]
          },
          "metadata": {},
          "execution_count": 269
        }
      ]
    },
    {
      "cell_type": "code",
      "source": [
        "#happiness Rank\n",
        "#data16.rename(columns={'Overall rank':\"Happiness Rank\"},inplace=True)\n",
        "data17.rename(columns={\"Happiness.Rank\":\"Happiness Rank\"},inplace=True)\n",
        "data18.rename(columns={\"Overall rank\":\"Happiness Rank\"},inplace=True)\n",
        "data19.rename(columns={\"Overall rank\":\"Happiness Rank\"},inplace=True)"
      ],
      "metadata": {
        "id": "47bBxNgSO1tY"
      },
      "execution_count": 270,
      "outputs": []
    },
    {
      "cell_type": "code",
      "source": [
        "#happiness Score \n",
        "#data16.rename(columns={\"Happiness.Score\":\"Happiness Score\"},inplace=True)\n",
        "data17.rename(columns={\"Happiness.Score\":\"Happiness Score\"},inplace=True)\n",
        "data18.rename(columns={\"Score\":\"Happiness Score\"},inplace=True)\n",
        "data19.rename(columns={\"Score\":\"Happiness Score\"},inplace=True)\n"
      ],
      "metadata": {
        "id": "J4iKG2i3Popo"
      },
      "execution_count": 271,
      "outputs": []
    },
    {
      "cell_type": "code",
      "source": [
        "#gdp\n",
        "data15.rename(columns={\"Economy (GDP per Capita)\":\"GDP\"},inplace=True)\n",
        "data16.rename(columns={\"Economy (GDP per Capita)\":\"GDP\"},inplace=True)\n",
        "data17.rename(columns={\"Economy..GDP.per.Capita.\":\"GDP\"},inplace=True)\n",
        "data18.rename(columns={\"GDP per capita\":\"GDP\"},inplace=True)\n",
        "data19.rename(columns={\"GDP per capita\":\"GDP\"},inplace=True)"
      ],
      "metadata": {
        "id": "n18tsfHCQXd5"
      },
      "execution_count": 272,
      "outputs": []
    },
    {
      "cell_type": "code",
      "source": [
        "#Health\n",
        "data15.rename(columns={\"Health (Life Expectancy)\":\"Health\"},inplace=True)\n",
        "data16.rename(columns={'Health (Life Expectancy)':\"Health\"},inplace=True)\n",
        "data17.rename(columns={'Health..Life.Expectancy.':\"Health\"},inplace=True)\n",
        "data18.rename(columns={'Healthy life expectancy':\"Health\"},inplace=True)\n",
        "data19.rename(columns={'Healthy life expectancy':\"Health\"},inplace=True)"
      ],
      "metadata": {
        "id": "Ru4-T7i0SJYa"
      },
      "execution_count": 273,
      "outputs": []
    },
    {
      "cell_type": "code",
      "source": [
        "#freddom\n",
        "data18.rename(columns={'Freedom to make life choices':\"Freedom\"},inplace=True)\n",
        "data19.rename(columns={'Freedom to make life choices':\"Freedom\"},inplace=True)"
      ],
      "metadata": {
        "id": "4Gs-EI4JRp7Y"
      },
      "execution_count": 274,
      "outputs": []
    },
    {
      "cell_type": "code",
      "source": [
        "#corruption\n",
        "data15.rename(columns={\"Trust (Government Corruption)\":\"corruption\"},inplace=True)\n",
        "data16.rename(columns={'Trust (Government Corruption)':\"corruption\"},inplace=True)\n",
        "data17.rename(columns={'Trust..Government.Corruption.':\"corruption\"},inplace=True)\n",
        "data18.rename(columns={'Perceptions of corruption':\"corruption\"},inplace=True)\n",
        "data19.rename(columns={'Perceptions of corruption':\"corruption\"},inplace=True)"
      ],
      "metadata": {
        "id": "8-u51D_bVdLT"
      },
      "execution_count": 275,
      "outputs": []
    },
    {
      "cell_type": "code",
      "source": [
        "#family\n",
        "data18.rename(columns={\"Social support\":\"Family\"},inplace=True)\n",
        "data19.rename(columns={\"Social support\":\"Family\"},inplace=True)"
      ],
      "metadata": {
        "id": "R2DE_gUjiNDf"
      },
      "execution_count": 296,
      "outputs": []
    },
    {
      "cell_type": "markdown",
      "source": [
        "2015: Region\n",
        "2016 : Dystopia \n",
        "2017: WHisker Low ,high\n",
        "\n"
      ],
      "metadata": {
        "id": "Ztvz-1Uba2VF"
      }
    },
    {
      "cell_type": "markdown",
      "source": [
        "Features are not in all years\n",
        "2015, 2017,2018: Dystopia Residual/Dystoopia.Residual\n",
        "\n",
        "2015 : Standard Error\n",
        "\n",
        "2016 : lower confidence interval , upper confidence interval\n",
        "\n",
        "2017: WHiskers High/ WHiskers low"
      ],
      "metadata": {
        "id": "n0VWei1WAzxG"
      }
    },
    {
      "cell_type": "code",
      "source": [
        "data15.columns"
      ],
      "metadata": {
        "colab": {
          "base_uri": "https://localhost:8080/"
        },
        "id": "ZOr-nsuPfoHC",
        "outputId": "e6f79126-0ad6-48df-b53e-4f72759a634f"
      },
      "execution_count": 276,
      "outputs": [
        {
          "output_type": "execute_result",
          "data": {
            "text/plain": [
              "Index(['Country', 'Region', 'Happiness Rank', 'Happiness Score',\n",
              "       'Standard Error', 'GDP', 'Family', 'Health', 'Freedom', 'corruption',\n",
              "       'Generosity', 'Dystopia Residual'],\n",
              "      dtype='object')"
            ]
          },
          "metadata": {},
          "execution_count": 276
        }
      ]
    },
    {
      "cell_type": "code",
      "source": [
        "data16.columns"
      ],
      "metadata": {
        "colab": {
          "base_uri": "https://localhost:8080/"
        },
        "id": "zxQmEed1fr07",
        "outputId": "55cc42cb-c616-4668-ba26-5261e1f24048"
      },
      "execution_count": 278,
      "outputs": [
        {
          "output_type": "execute_result",
          "data": {
            "text/plain": [
              "Index(['Country', 'Region', 'Happiness Rank', 'Happiness Score',\n",
              "       'Lower Confidence Interval', 'Upper Confidence Interval', 'GDP',\n",
              "       'Family', 'Health', 'Freedom', 'corruption', 'Generosity',\n",
              "       'Dystopia Residual'],\n",
              "      dtype='object')"
            ]
          },
          "metadata": {},
          "execution_count": 278
        }
      ]
    },
    {
      "cell_type": "code",
      "source": [
        "data17.columns"
      ],
      "metadata": {
        "colab": {
          "base_uri": "https://localhost:8080/"
        },
        "id": "MAF2pU6LfzXc",
        "outputId": "757fe213-e2df-4596-d3d1-c3fa8695502c"
      },
      "execution_count": 279,
      "outputs": [
        {
          "output_type": "execute_result",
          "data": {
            "text/plain": [
              "Index(['Country', 'Happiness Rank', 'Happiness Score', 'Whisker.high',\n",
              "       'Whisker.low', 'GDP', 'Family', 'Health', 'Freedom', 'Generosity',\n",
              "       'corruption', 'Dystopia.Residual'],\n",
              "      dtype='object')"
            ]
          },
          "metadata": {},
          "execution_count": 279
        }
      ]
    },
    {
      "cell_type": "code",
      "source": [
        "data18.columns"
      ],
      "metadata": {
        "colab": {
          "base_uri": "https://localhost:8080/"
        },
        "id": "2rUF3gl-f3lZ",
        "outputId": "a4b96190-f057-4cc8-e557-7c4d23df3a6f"
      },
      "execution_count": 280,
      "outputs": [
        {
          "output_type": "execute_result",
          "data": {
            "text/plain": [
              "Index(['Happiness Rank', 'Country', 'Happiness Score', 'GDP', 'Social support',\n",
              "       'Health', 'Freedom', 'Generosity', 'corruption'],\n",
              "      dtype='object')"
            ]
          },
          "metadata": {},
          "execution_count": 280
        }
      ]
    },
    {
      "cell_type": "code",
      "source": [
        "data19.columns"
      ],
      "metadata": {
        "colab": {
          "base_uri": "https://localhost:8080/"
        },
        "id": "jPwFsC3wgFy2",
        "outputId": "a7868200-c6d4-44f1-cc18-bd01d26acabd"
      },
      "execution_count": 281,
      "outputs": [
        {
          "output_type": "execute_result",
          "data": {
            "text/plain": [
              "Index(['Happiness Rank', 'Country', 'Happiness Score', 'GDP', 'Social support',\n",
              "       'Health', 'Freedom', 'Generosity', 'corruption'],\n",
              "      dtype='object')"
            ]
          },
          "metadata": {},
          "execution_count": 281
        }
      ]
    },
    {
      "cell_type": "code",
      "source": [
        "data15=data15.drop(['Dystopia Residual','Standard Error',\"Region\"], axis=1)\n"
      ],
      "metadata": {
        "id": "M_6TykcbA3ck"
      },
      "execution_count": 282,
      "outputs": []
    },
    {
      "cell_type": "code",
      "source": [
        "data16=data16.drop(['Lower Confidence Interval','Upper Confidence Interval',\"Region\",\"Dystopia Residual\"],axis=1)"
      ],
      "metadata": {
        "id": "-Yy6DovACJ_Y"
      },
      "execution_count": 283,
      "outputs": []
    },
    {
      "cell_type": "code",
      "source": [
        "data17=data17.drop([\"Whisker.high\",\"Whisker.low\",\"Dystopia.Residual\"],axis=1)"
      ],
      "metadata": {
        "id": "yXeeMWGmc-X1"
      },
      "execution_count": 284,
      "outputs": []
    },
    {
      "cell_type": "code",
      "source": [
        "data19.shape"
      ],
      "metadata": {
        "colab": {
          "base_uri": "https://localhost:8080/"
        },
        "id": "smLJUvRLdQUh",
        "outputId": "df455f18-2677-4c87-bdc9-ff9794f62d81"
      },
      "execution_count": 289,
      "outputs": [
        {
          "output_type": "execute_result",
          "data": {
            "text/plain": [
              "(156, 9)"
            ]
          },
          "metadata": {},
          "execution_count": 289
        }
      ]
    },
    {
      "cell_type": "code",
      "source": [
        "data_final=pd.concat([data15,data16,data17,data18,data19],ignore_index=True)"
      ],
      "metadata": {
        "id": "z2W44YvVg7bR"
      },
      "execution_count": 297,
      "outputs": []
    },
    {
      "cell_type": "code",
      "source": [
        "data_final"
      ],
      "metadata": {
        "colab": {
          "base_uri": "https://localhost:8080/",
          "height": 424
        },
        "id": "K0y_xXMShVO0",
        "outputId": "58fdca10-5885-4caa-8c98-f5b4b206709d"
      },
      "execution_count": 298,
      "outputs": [
        {
          "output_type": "execute_result",
          "data": {
            "text/plain": [
              "                      Country  Happiness Rank  Happiness Score      GDP  \\\n",
              "0                 Switzerland               1            7.587  1.39651   \n",
              "1                     Iceland               2            7.561  1.30232   \n",
              "2                     Denmark               3            7.527  1.32548   \n",
              "3                      Norway               4            7.522  1.45900   \n",
              "4                      Canada               5            7.427  1.32629   \n",
              "..                        ...             ...              ...      ...   \n",
              "777                    Rwanda             152            3.334  0.35900   \n",
              "778                  Tanzania             153            3.231  0.47600   \n",
              "779               Afghanistan             154            3.203  0.35000   \n",
              "780  Central African Republic             155            3.083  0.02600   \n",
              "781               South Sudan             156            2.853  0.30600   \n",
              "\n",
              "      Family   Health  Freedom  corruption  Generosity  \n",
              "0    1.34951  0.94143  0.66557     0.41978     0.29678  \n",
              "1    1.40223  0.94784  0.62877     0.14145     0.43630  \n",
              "2    1.36058  0.87464  0.64938     0.48357     0.34139  \n",
              "3    1.33095  0.88521  0.66973     0.36503     0.34699  \n",
              "4    1.32261  0.90563  0.63297     0.32957     0.45811  \n",
              "..       ...      ...      ...         ...         ...  \n",
              "777  0.71100  0.61400  0.55500     0.41100     0.21700  \n",
              "778  0.88500  0.49900  0.41700     0.14700     0.27600  \n",
              "779  0.51700  0.36100  0.00000     0.02500     0.15800  \n",
              "780  0.00000  0.10500  0.22500     0.03500     0.23500  \n",
              "781  0.57500  0.29500  0.01000     0.09100     0.20200  \n",
              "\n",
              "[782 rows x 9 columns]"
            ],
            "text/html": [
              "\n",
              "  <div id=\"df-b151b3a4-6666-41de-bc4e-db738cae1ee6\">\n",
              "    <div class=\"colab-df-container\">\n",
              "      <div>\n",
              "<style scoped>\n",
              "    .dataframe tbody tr th:only-of-type {\n",
              "        vertical-align: middle;\n",
              "    }\n",
              "\n",
              "    .dataframe tbody tr th {\n",
              "        vertical-align: top;\n",
              "    }\n",
              "\n",
              "    .dataframe thead th {\n",
              "        text-align: right;\n",
              "    }\n",
              "</style>\n",
              "<table border=\"1\" class=\"dataframe\">\n",
              "  <thead>\n",
              "    <tr style=\"text-align: right;\">\n",
              "      <th></th>\n",
              "      <th>Country</th>\n",
              "      <th>Happiness Rank</th>\n",
              "      <th>Happiness Score</th>\n",
              "      <th>GDP</th>\n",
              "      <th>Family</th>\n",
              "      <th>Health</th>\n",
              "      <th>Freedom</th>\n",
              "      <th>corruption</th>\n",
              "      <th>Generosity</th>\n",
              "    </tr>\n",
              "  </thead>\n",
              "  <tbody>\n",
              "    <tr>\n",
              "      <th>0</th>\n",
              "      <td>Switzerland</td>\n",
              "      <td>1</td>\n",
              "      <td>7.587</td>\n",
              "      <td>1.39651</td>\n",
              "      <td>1.34951</td>\n",
              "      <td>0.94143</td>\n",
              "      <td>0.66557</td>\n",
              "      <td>0.41978</td>\n",
              "      <td>0.29678</td>\n",
              "    </tr>\n",
              "    <tr>\n",
              "      <th>1</th>\n",
              "      <td>Iceland</td>\n",
              "      <td>2</td>\n",
              "      <td>7.561</td>\n",
              "      <td>1.30232</td>\n",
              "      <td>1.40223</td>\n",
              "      <td>0.94784</td>\n",
              "      <td>0.62877</td>\n",
              "      <td>0.14145</td>\n",
              "      <td>0.43630</td>\n",
              "    </tr>\n",
              "    <tr>\n",
              "      <th>2</th>\n",
              "      <td>Denmark</td>\n",
              "      <td>3</td>\n",
              "      <td>7.527</td>\n",
              "      <td>1.32548</td>\n",
              "      <td>1.36058</td>\n",
              "      <td>0.87464</td>\n",
              "      <td>0.64938</td>\n",
              "      <td>0.48357</td>\n",
              "      <td>0.34139</td>\n",
              "    </tr>\n",
              "    <tr>\n",
              "      <th>3</th>\n",
              "      <td>Norway</td>\n",
              "      <td>4</td>\n",
              "      <td>7.522</td>\n",
              "      <td>1.45900</td>\n",
              "      <td>1.33095</td>\n",
              "      <td>0.88521</td>\n",
              "      <td>0.66973</td>\n",
              "      <td>0.36503</td>\n",
              "      <td>0.34699</td>\n",
              "    </tr>\n",
              "    <tr>\n",
              "      <th>4</th>\n",
              "      <td>Canada</td>\n",
              "      <td>5</td>\n",
              "      <td>7.427</td>\n",
              "      <td>1.32629</td>\n",
              "      <td>1.32261</td>\n",
              "      <td>0.90563</td>\n",
              "      <td>0.63297</td>\n",
              "      <td>0.32957</td>\n",
              "      <td>0.45811</td>\n",
              "    </tr>\n",
              "    <tr>\n",
              "      <th>...</th>\n",
              "      <td>...</td>\n",
              "      <td>...</td>\n",
              "      <td>...</td>\n",
              "      <td>...</td>\n",
              "      <td>...</td>\n",
              "      <td>...</td>\n",
              "      <td>...</td>\n",
              "      <td>...</td>\n",
              "      <td>...</td>\n",
              "    </tr>\n",
              "    <tr>\n",
              "      <th>777</th>\n",
              "      <td>Rwanda</td>\n",
              "      <td>152</td>\n",
              "      <td>3.334</td>\n",
              "      <td>0.35900</td>\n",
              "      <td>0.71100</td>\n",
              "      <td>0.61400</td>\n",
              "      <td>0.55500</td>\n",
              "      <td>0.41100</td>\n",
              "      <td>0.21700</td>\n",
              "    </tr>\n",
              "    <tr>\n",
              "      <th>778</th>\n",
              "      <td>Tanzania</td>\n",
              "      <td>153</td>\n",
              "      <td>3.231</td>\n",
              "      <td>0.47600</td>\n",
              "      <td>0.88500</td>\n",
              "      <td>0.49900</td>\n",
              "      <td>0.41700</td>\n",
              "      <td>0.14700</td>\n",
              "      <td>0.27600</td>\n",
              "    </tr>\n",
              "    <tr>\n",
              "      <th>779</th>\n",
              "      <td>Afghanistan</td>\n",
              "      <td>154</td>\n",
              "      <td>3.203</td>\n",
              "      <td>0.35000</td>\n",
              "      <td>0.51700</td>\n",
              "      <td>0.36100</td>\n",
              "      <td>0.00000</td>\n",
              "      <td>0.02500</td>\n",
              "      <td>0.15800</td>\n",
              "    </tr>\n",
              "    <tr>\n",
              "      <th>780</th>\n",
              "      <td>Central African Republic</td>\n",
              "      <td>155</td>\n",
              "      <td>3.083</td>\n",
              "      <td>0.02600</td>\n",
              "      <td>0.00000</td>\n",
              "      <td>0.10500</td>\n",
              "      <td>0.22500</td>\n",
              "      <td>0.03500</td>\n",
              "      <td>0.23500</td>\n",
              "    </tr>\n",
              "    <tr>\n",
              "      <th>781</th>\n",
              "      <td>South Sudan</td>\n",
              "      <td>156</td>\n",
              "      <td>2.853</td>\n",
              "      <td>0.30600</td>\n",
              "      <td>0.57500</td>\n",
              "      <td>0.29500</td>\n",
              "      <td>0.01000</td>\n",
              "      <td>0.09100</td>\n",
              "      <td>0.20200</td>\n",
              "    </tr>\n",
              "  </tbody>\n",
              "</table>\n",
              "<p>782 rows × 9 columns</p>\n",
              "</div>\n",
              "      <button class=\"colab-df-convert\" onclick=\"convertToInteractive('df-b151b3a4-6666-41de-bc4e-db738cae1ee6')\"\n",
              "              title=\"Convert this dataframe to an interactive table.\"\n",
              "              style=\"display:none;\">\n",
              "        \n",
              "  <svg xmlns=\"http://www.w3.org/2000/svg\" height=\"24px\"viewBox=\"0 0 24 24\"\n",
              "       width=\"24px\">\n",
              "    <path d=\"M0 0h24v24H0V0z\" fill=\"none\"/>\n",
              "    <path d=\"M18.56 5.44l.94 2.06.94-2.06 2.06-.94-2.06-.94-.94-2.06-.94 2.06-2.06.94zm-11 1L8.5 8.5l.94-2.06 2.06-.94-2.06-.94L8.5 2.5l-.94 2.06-2.06.94zm10 10l.94 2.06.94-2.06 2.06-.94-2.06-.94-.94-2.06-.94 2.06-2.06.94z\"/><path d=\"M17.41 7.96l-1.37-1.37c-.4-.4-.92-.59-1.43-.59-.52 0-1.04.2-1.43.59L10.3 9.45l-7.72 7.72c-.78.78-.78 2.05 0 2.83L4 21.41c.39.39.9.59 1.41.59.51 0 1.02-.2 1.41-.59l7.78-7.78 2.81-2.81c.8-.78.8-2.07 0-2.86zM5.41 20L4 18.59l7.72-7.72 1.47 1.35L5.41 20z\"/>\n",
              "  </svg>\n",
              "      </button>\n",
              "      \n",
              "  <style>\n",
              "    .colab-df-container {\n",
              "      display:flex;\n",
              "      flex-wrap:wrap;\n",
              "      gap: 12px;\n",
              "    }\n",
              "\n",
              "    .colab-df-convert {\n",
              "      background-color: #E8F0FE;\n",
              "      border: none;\n",
              "      border-radius: 50%;\n",
              "      cursor: pointer;\n",
              "      display: none;\n",
              "      fill: #1967D2;\n",
              "      height: 32px;\n",
              "      padding: 0 0 0 0;\n",
              "      width: 32px;\n",
              "    }\n",
              "\n",
              "    .colab-df-convert:hover {\n",
              "      background-color: #E2EBFA;\n",
              "      box-shadow: 0px 1px 2px rgba(60, 64, 67, 0.3), 0px 1px 3px 1px rgba(60, 64, 67, 0.15);\n",
              "      fill: #174EA6;\n",
              "    }\n",
              "\n",
              "    [theme=dark] .colab-df-convert {\n",
              "      background-color: #3B4455;\n",
              "      fill: #D2E3FC;\n",
              "    }\n",
              "\n",
              "    [theme=dark] .colab-df-convert:hover {\n",
              "      background-color: #434B5C;\n",
              "      box-shadow: 0px 1px 3px 1px rgba(0, 0, 0, 0.15);\n",
              "      filter: drop-shadow(0px 1px 2px rgba(0, 0, 0, 0.3));\n",
              "      fill: #FFFFFF;\n",
              "    }\n",
              "  </style>\n",
              "\n",
              "      <script>\n",
              "        const buttonEl =\n",
              "          document.querySelector('#df-b151b3a4-6666-41de-bc4e-db738cae1ee6 button.colab-df-convert');\n",
              "        buttonEl.style.display =\n",
              "          google.colab.kernel.accessAllowed ? 'block' : 'none';\n",
              "\n",
              "        async function convertToInteractive(key) {\n",
              "          const element = document.querySelector('#df-b151b3a4-6666-41de-bc4e-db738cae1ee6');\n",
              "          const dataTable =\n",
              "            await google.colab.kernel.invokeFunction('convertToInteractive',\n",
              "                                                     [key], {});\n",
              "          if (!dataTable) return;\n",
              "\n",
              "          const docLinkHtml = 'Like what you see? Visit the ' +\n",
              "            '<a target=\"_blank\" href=https://colab.research.google.com/notebooks/data_table.ipynb>data table notebook</a>'\n",
              "            + ' to learn more about interactive tables.';\n",
              "          element.innerHTML = '';\n",
              "          dataTable['output_type'] = 'display_data';\n",
              "          await google.colab.output.renderOutput(dataTable, element);\n",
              "          const docLink = document.createElement('div');\n",
              "          docLink.innerHTML = docLinkHtml;\n",
              "          element.appendChild(docLink);\n",
              "        }\n",
              "      </script>\n",
              "    </div>\n",
              "  </div>\n",
              "  "
            ]
          },
          "metadata": {},
          "execution_count": 298
        }
      ]
    },
    {
      "cell_type": "code",
      "source": [
        "data_final.isna().sum()"
      ],
      "metadata": {
        "colab": {
          "base_uri": "https://localhost:8080/"
        },
        "id": "zrjlCyArioyl",
        "outputId": "f78aa51d-fee0-4ce2-b6ca-1f78c300fd0a"
      },
      "execution_count": 300,
      "outputs": [
        {
          "output_type": "execute_result",
          "data": {
            "text/plain": [
              "Country            0\n",
              "Happiness Rank     0\n",
              "Happiness Score    0\n",
              "GDP                0\n",
              "Family             0\n",
              "Health             0\n",
              "Freedom            0\n",
              "corruption         1\n",
              "Generosity         0\n",
              "dtype: int64"
            ]
          },
          "metadata": {},
          "execution_count": 300
        }
      ]
    },
    {
      "cell_type": "code",
      "source": [
        "data_final['corruption']=data_final['corruption'].fillna(data_final['corruption'].median())"
      ],
      "metadata": {
        "id": "r5G-DaAKi2Gm"
      },
      "execution_count": 302,
      "outputs": []
    },
    {
      "cell_type": "code",
      "source": [
        "data_final.head()"
      ],
      "metadata": {
        "colab": {
          "base_uri": "https://localhost:8080/",
          "height": 206
        },
        "id": "FTxwK1iUjkzh",
        "outputId": "5b7b47a6-0739-4cc3-f1d8-5bf8dffdf104"
      },
      "execution_count": 304,
      "outputs": [
        {
          "output_type": "execute_result",
          "data": {
            "text/plain": [
              "       Country  Happiness Rank  Happiness Score      GDP   Family   Health  \\\n",
              "0  Switzerland               1            7.587  1.39651  1.34951  0.94143   \n",
              "1      Iceland               2            7.561  1.30232  1.40223  0.94784   \n",
              "2      Denmark               3            7.527  1.32548  1.36058  0.87464   \n",
              "3       Norway               4            7.522  1.45900  1.33095  0.88521   \n",
              "4       Canada               5            7.427  1.32629  1.32261  0.90563   \n",
              "\n",
              "   Freedom  corruption  Generosity  \n",
              "0  0.66557     0.41978     0.29678  \n",
              "1  0.62877     0.14145     0.43630  \n",
              "2  0.64938     0.48357     0.34139  \n",
              "3  0.66973     0.36503     0.34699  \n",
              "4  0.63297     0.32957     0.45811  "
            ],
            "text/html": [
              "\n",
              "  <div id=\"df-537c3189-21d2-44de-8d4f-f89edc9794eb\">\n",
              "    <div class=\"colab-df-container\">\n",
              "      <div>\n",
              "<style scoped>\n",
              "    .dataframe tbody tr th:only-of-type {\n",
              "        vertical-align: middle;\n",
              "    }\n",
              "\n",
              "    .dataframe tbody tr th {\n",
              "        vertical-align: top;\n",
              "    }\n",
              "\n",
              "    .dataframe thead th {\n",
              "        text-align: right;\n",
              "    }\n",
              "</style>\n",
              "<table border=\"1\" class=\"dataframe\">\n",
              "  <thead>\n",
              "    <tr style=\"text-align: right;\">\n",
              "      <th></th>\n",
              "      <th>Country</th>\n",
              "      <th>Happiness Rank</th>\n",
              "      <th>Happiness Score</th>\n",
              "      <th>GDP</th>\n",
              "      <th>Family</th>\n",
              "      <th>Health</th>\n",
              "      <th>Freedom</th>\n",
              "      <th>corruption</th>\n",
              "      <th>Generosity</th>\n",
              "    </tr>\n",
              "  </thead>\n",
              "  <tbody>\n",
              "    <tr>\n",
              "      <th>0</th>\n",
              "      <td>Switzerland</td>\n",
              "      <td>1</td>\n",
              "      <td>7.587</td>\n",
              "      <td>1.39651</td>\n",
              "      <td>1.34951</td>\n",
              "      <td>0.94143</td>\n",
              "      <td>0.66557</td>\n",
              "      <td>0.41978</td>\n",
              "      <td>0.29678</td>\n",
              "    </tr>\n",
              "    <tr>\n",
              "      <th>1</th>\n",
              "      <td>Iceland</td>\n",
              "      <td>2</td>\n",
              "      <td>7.561</td>\n",
              "      <td>1.30232</td>\n",
              "      <td>1.40223</td>\n",
              "      <td>0.94784</td>\n",
              "      <td>0.62877</td>\n",
              "      <td>0.14145</td>\n",
              "      <td>0.43630</td>\n",
              "    </tr>\n",
              "    <tr>\n",
              "      <th>2</th>\n",
              "      <td>Denmark</td>\n",
              "      <td>3</td>\n",
              "      <td>7.527</td>\n",
              "      <td>1.32548</td>\n",
              "      <td>1.36058</td>\n",
              "      <td>0.87464</td>\n",
              "      <td>0.64938</td>\n",
              "      <td>0.48357</td>\n",
              "      <td>0.34139</td>\n",
              "    </tr>\n",
              "    <tr>\n",
              "      <th>3</th>\n",
              "      <td>Norway</td>\n",
              "      <td>4</td>\n",
              "      <td>7.522</td>\n",
              "      <td>1.45900</td>\n",
              "      <td>1.33095</td>\n",
              "      <td>0.88521</td>\n",
              "      <td>0.66973</td>\n",
              "      <td>0.36503</td>\n",
              "      <td>0.34699</td>\n",
              "    </tr>\n",
              "    <tr>\n",
              "      <th>4</th>\n",
              "      <td>Canada</td>\n",
              "      <td>5</td>\n",
              "      <td>7.427</td>\n",
              "      <td>1.32629</td>\n",
              "      <td>1.32261</td>\n",
              "      <td>0.90563</td>\n",
              "      <td>0.63297</td>\n",
              "      <td>0.32957</td>\n",
              "      <td>0.45811</td>\n",
              "    </tr>\n",
              "  </tbody>\n",
              "</table>\n",
              "</div>\n",
              "      <button class=\"colab-df-convert\" onclick=\"convertToInteractive('df-537c3189-21d2-44de-8d4f-f89edc9794eb')\"\n",
              "              title=\"Convert this dataframe to an interactive table.\"\n",
              "              style=\"display:none;\">\n",
              "        \n",
              "  <svg xmlns=\"http://www.w3.org/2000/svg\" height=\"24px\"viewBox=\"0 0 24 24\"\n",
              "       width=\"24px\">\n",
              "    <path d=\"M0 0h24v24H0V0z\" fill=\"none\"/>\n",
              "    <path d=\"M18.56 5.44l.94 2.06.94-2.06 2.06-.94-2.06-.94-.94-2.06-.94 2.06-2.06.94zm-11 1L8.5 8.5l.94-2.06 2.06-.94-2.06-.94L8.5 2.5l-.94 2.06-2.06.94zm10 10l.94 2.06.94-2.06 2.06-.94-2.06-.94-.94-2.06-.94 2.06-2.06.94z\"/><path d=\"M17.41 7.96l-1.37-1.37c-.4-.4-.92-.59-1.43-.59-.52 0-1.04.2-1.43.59L10.3 9.45l-7.72 7.72c-.78.78-.78 2.05 0 2.83L4 21.41c.39.39.9.59 1.41.59.51 0 1.02-.2 1.41-.59l7.78-7.78 2.81-2.81c.8-.78.8-2.07 0-2.86zM5.41 20L4 18.59l7.72-7.72 1.47 1.35L5.41 20z\"/>\n",
              "  </svg>\n",
              "      </button>\n",
              "      \n",
              "  <style>\n",
              "    .colab-df-container {\n",
              "      display:flex;\n",
              "      flex-wrap:wrap;\n",
              "      gap: 12px;\n",
              "    }\n",
              "\n",
              "    .colab-df-convert {\n",
              "      background-color: #E8F0FE;\n",
              "      border: none;\n",
              "      border-radius: 50%;\n",
              "      cursor: pointer;\n",
              "      display: none;\n",
              "      fill: #1967D2;\n",
              "      height: 32px;\n",
              "      padding: 0 0 0 0;\n",
              "      width: 32px;\n",
              "    }\n",
              "\n",
              "    .colab-df-convert:hover {\n",
              "      background-color: #E2EBFA;\n",
              "      box-shadow: 0px 1px 2px rgba(60, 64, 67, 0.3), 0px 1px 3px 1px rgba(60, 64, 67, 0.15);\n",
              "      fill: #174EA6;\n",
              "    }\n",
              "\n",
              "    [theme=dark] .colab-df-convert {\n",
              "      background-color: #3B4455;\n",
              "      fill: #D2E3FC;\n",
              "    }\n",
              "\n",
              "    [theme=dark] .colab-df-convert:hover {\n",
              "      background-color: #434B5C;\n",
              "      box-shadow: 0px 1px 3px 1px rgba(0, 0, 0, 0.15);\n",
              "      filter: drop-shadow(0px 1px 2px rgba(0, 0, 0, 0.3));\n",
              "      fill: #FFFFFF;\n",
              "    }\n",
              "  </style>\n",
              "\n",
              "      <script>\n",
              "        const buttonEl =\n",
              "          document.querySelector('#df-537c3189-21d2-44de-8d4f-f89edc9794eb button.colab-df-convert');\n",
              "        buttonEl.style.display =\n",
              "          google.colab.kernel.accessAllowed ? 'block' : 'none';\n",
              "\n",
              "        async function convertToInteractive(key) {\n",
              "          const element = document.querySelector('#df-537c3189-21d2-44de-8d4f-f89edc9794eb');\n",
              "          const dataTable =\n",
              "            await google.colab.kernel.invokeFunction('convertToInteractive',\n",
              "                                                     [key], {});\n",
              "          if (!dataTable) return;\n",
              "\n",
              "          const docLinkHtml = 'Like what you see? Visit the ' +\n",
              "            '<a target=\"_blank\" href=https://colab.research.google.com/notebooks/data_table.ipynb>data table notebook</a>'\n",
              "            + ' to learn more about interactive tables.';\n",
              "          element.innerHTML = '';\n",
              "          dataTable['output_type'] = 'display_data';\n",
              "          await google.colab.output.renderOutput(dataTable, element);\n",
              "          const docLink = document.createElement('div');\n",
              "          docLink.innerHTML = docLinkHtml;\n",
              "          element.appendChild(docLink);\n",
              "        }\n",
              "      </script>\n",
              "    </div>\n",
              "  </div>\n",
              "  "
            ]
          },
          "metadata": {},
          "execution_count": 304
        }
      ]
    },
    {
      "cell_type": "code",
      "source": [
        "data_final.drop([\"Happiness Rank\"],axis=1,inplace=True)"
      ],
      "metadata": {
        "id": "LhtnH_4dj34U"
      },
      "execution_count": 305,
      "outputs": []
    },
    {
      "cell_type": "code",
      "source": [
        "data_final.set_index('Country',inplace=True)"
      ],
      "metadata": {
        "id": "yYnF3Tf8kByq"
      },
      "execution_count": 306,
      "outputs": []
    },
    {
      "cell_type": "code",
      "source": [
        "data_final"
      ],
      "metadata": {
        "colab": {
          "base_uri": "https://localhost:8080/",
          "height": 455
        },
        "id": "mS1XWsFqkONS",
        "outputId": "4925b8a2-0f6f-43c5-b282-840d3f287d8d"
      },
      "execution_count": 307,
      "outputs": [
        {
          "output_type": "execute_result",
          "data": {
            "text/plain": [
              "                          Happiness Score      GDP   Family   Health  Freedom  \\\n",
              "Country                                                                         \n",
              "Switzerland                         7.587  1.39651  1.34951  0.94143  0.66557   \n",
              "Iceland                             7.561  1.30232  1.40223  0.94784  0.62877   \n",
              "Denmark                             7.527  1.32548  1.36058  0.87464  0.64938   \n",
              "Norway                              7.522  1.45900  1.33095  0.88521  0.66973   \n",
              "Canada                              7.427  1.32629  1.32261  0.90563  0.63297   \n",
              "...                                   ...      ...      ...      ...      ...   \n",
              "Rwanda                              3.334  0.35900  0.71100  0.61400  0.55500   \n",
              "Tanzania                            3.231  0.47600  0.88500  0.49900  0.41700   \n",
              "Afghanistan                         3.203  0.35000  0.51700  0.36100  0.00000   \n",
              "Central African Republic            3.083  0.02600  0.00000  0.10500  0.22500   \n",
              "South Sudan                         2.853  0.30600  0.57500  0.29500  0.01000   \n",
              "\n",
              "                          corruption  Generosity  \n",
              "Country                                           \n",
              "Switzerland                  0.41978     0.29678  \n",
              "Iceland                      0.14145     0.43630  \n",
              "Denmark                      0.48357     0.34139  \n",
              "Norway                       0.36503     0.34699  \n",
              "Canada                       0.32957     0.45811  \n",
              "...                              ...         ...  \n",
              "Rwanda                       0.41100     0.21700  \n",
              "Tanzania                     0.14700     0.27600  \n",
              "Afghanistan                  0.02500     0.15800  \n",
              "Central African Republic     0.03500     0.23500  \n",
              "South Sudan                  0.09100     0.20200  \n",
              "\n",
              "[782 rows x 7 columns]"
            ],
            "text/html": [
              "\n",
              "  <div id=\"df-1dae4a2e-e3ed-4c2b-b00c-811b5acad2ab\">\n",
              "    <div class=\"colab-df-container\">\n",
              "      <div>\n",
              "<style scoped>\n",
              "    .dataframe tbody tr th:only-of-type {\n",
              "        vertical-align: middle;\n",
              "    }\n",
              "\n",
              "    .dataframe tbody tr th {\n",
              "        vertical-align: top;\n",
              "    }\n",
              "\n",
              "    .dataframe thead th {\n",
              "        text-align: right;\n",
              "    }\n",
              "</style>\n",
              "<table border=\"1\" class=\"dataframe\">\n",
              "  <thead>\n",
              "    <tr style=\"text-align: right;\">\n",
              "      <th></th>\n",
              "      <th>Happiness Score</th>\n",
              "      <th>GDP</th>\n",
              "      <th>Family</th>\n",
              "      <th>Health</th>\n",
              "      <th>Freedom</th>\n",
              "      <th>corruption</th>\n",
              "      <th>Generosity</th>\n",
              "    </tr>\n",
              "    <tr>\n",
              "      <th>Country</th>\n",
              "      <th></th>\n",
              "      <th></th>\n",
              "      <th></th>\n",
              "      <th></th>\n",
              "      <th></th>\n",
              "      <th></th>\n",
              "      <th></th>\n",
              "    </tr>\n",
              "  </thead>\n",
              "  <tbody>\n",
              "    <tr>\n",
              "      <th>Switzerland</th>\n",
              "      <td>7.587</td>\n",
              "      <td>1.39651</td>\n",
              "      <td>1.34951</td>\n",
              "      <td>0.94143</td>\n",
              "      <td>0.66557</td>\n",
              "      <td>0.41978</td>\n",
              "      <td>0.29678</td>\n",
              "    </tr>\n",
              "    <tr>\n",
              "      <th>Iceland</th>\n",
              "      <td>7.561</td>\n",
              "      <td>1.30232</td>\n",
              "      <td>1.40223</td>\n",
              "      <td>0.94784</td>\n",
              "      <td>0.62877</td>\n",
              "      <td>0.14145</td>\n",
              "      <td>0.43630</td>\n",
              "    </tr>\n",
              "    <tr>\n",
              "      <th>Denmark</th>\n",
              "      <td>7.527</td>\n",
              "      <td>1.32548</td>\n",
              "      <td>1.36058</td>\n",
              "      <td>0.87464</td>\n",
              "      <td>0.64938</td>\n",
              "      <td>0.48357</td>\n",
              "      <td>0.34139</td>\n",
              "    </tr>\n",
              "    <tr>\n",
              "      <th>Norway</th>\n",
              "      <td>7.522</td>\n",
              "      <td>1.45900</td>\n",
              "      <td>1.33095</td>\n",
              "      <td>0.88521</td>\n",
              "      <td>0.66973</td>\n",
              "      <td>0.36503</td>\n",
              "      <td>0.34699</td>\n",
              "    </tr>\n",
              "    <tr>\n",
              "      <th>Canada</th>\n",
              "      <td>7.427</td>\n",
              "      <td>1.32629</td>\n",
              "      <td>1.32261</td>\n",
              "      <td>0.90563</td>\n",
              "      <td>0.63297</td>\n",
              "      <td>0.32957</td>\n",
              "      <td>0.45811</td>\n",
              "    </tr>\n",
              "    <tr>\n",
              "      <th>...</th>\n",
              "      <td>...</td>\n",
              "      <td>...</td>\n",
              "      <td>...</td>\n",
              "      <td>...</td>\n",
              "      <td>...</td>\n",
              "      <td>...</td>\n",
              "      <td>...</td>\n",
              "    </tr>\n",
              "    <tr>\n",
              "      <th>Rwanda</th>\n",
              "      <td>3.334</td>\n",
              "      <td>0.35900</td>\n",
              "      <td>0.71100</td>\n",
              "      <td>0.61400</td>\n",
              "      <td>0.55500</td>\n",
              "      <td>0.41100</td>\n",
              "      <td>0.21700</td>\n",
              "    </tr>\n",
              "    <tr>\n",
              "      <th>Tanzania</th>\n",
              "      <td>3.231</td>\n",
              "      <td>0.47600</td>\n",
              "      <td>0.88500</td>\n",
              "      <td>0.49900</td>\n",
              "      <td>0.41700</td>\n",
              "      <td>0.14700</td>\n",
              "      <td>0.27600</td>\n",
              "    </tr>\n",
              "    <tr>\n",
              "      <th>Afghanistan</th>\n",
              "      <td>3.203</td>\n",
              "      <td>0.35000</td>\n",
              "      <td>0.51700</td>\n",
              "      <td>0.36100</td>\n",
              "      <td>0.00000</td>\n",
              "      <td>0.02500</td>\n",
              "      <td>0.15800</td>\n",
              "    </tr>\n",
              "    <tr>\n",
              "      <th>Central African Republic</th>\n",
              "      <td>3.083</td>\n",
              "      <td>0.02600</td>\n",
              "      <td>0.00000</td>\n",
              "      <td>0.10500</td>\n",
              "      <td>0.22500</td>\n",
              "      <td>0.03500</td>\n",
              "      <td>0.23500</td>\n",
              "    </tr>\n",
              "    <tr>\n",
              "      <th>South Sudan</th>\n",
              "      <td>2.853</td>\n",
              "      <td>0.30600</td>\n",
              "      <td>0.57500</td>\n",
              "      <td>0.29500</td>\n",
              "      <td>0.01000</td>\n",
              "      <td>0.09100</td>\n",
              "      <td>0.20200</td>\n",
              "    </tr>\n",
              "  </tbody>\n",
              "</table>\n",
              "<p>782 rows × 7 columns</p>\n",
              "</div>\n",
              "      <button class=\"colab-df-convert\" onclick=\"convertToInteractive('df-1dae4a2e-e3ed-4c2b-b00c-811b5acad2ab')\"\n",
              "              title=\"Convert this dataframe to an interactive table.\"\n",
              "              style=\"display:none;\">\n",
              "        \n",
              "  <svg xmlns=\"http://www.w3.org/2000/svg\" height=\"24px\"viewBox=\"0 0 24 24\"\n",
              "       width=\"24px\">\n",
              "    <path d=\"M0 0h24v24H0V0z\" fill=\"none\"/>\n",
              "    <path d=\"M18.56 5.44l.94 2.06.94-2.06 2.06-.94-2.06-.94-.94-2.06-.94 2.06-2.06.94zm-11 1L8.5 8.5l.94-2.06 2.06-.94-2.06-.94L8.5 2.5l-.94 2.06-2.06.94zm10 10l.94 2.06.94-2.06 2.06-.94-2.06-.94-.94-2.06-.94 2.06-2.06.94z\"/><path d=\"M17.41 7.96l-1.37-1.37c-.4-.4-.92-.59-1.43-.59-.52 0-1.04.2-1.43.59L10.3 9.45l-7.72 7.72c-.78.78-.78 2.05 0 2.83L4 21.41c.39.39.9.59 1.41.59.51 0 1.02-.2 1.41-.59l7.78-7.78 2.81-2.81c.8-.78.8-2.07 0-2.86zM5.41 20L4 18.59l7.72-7.72 1.47 1.35L5.41 20z\"/>\n",
              "  </svg>\n",
              "      </button>\n",
              "      \n",
              "  <style>\n",
              "    .colab-df-container {\n",
              "      display:flex;\n",
              "      flex-wrap:wrap;\n",
              "      gap: 12px;\n",
              "    }\n",
              "\n",
              "    .colab-df-convert {\n",
              "      background-color: #E8F0FE;\n",
              "      border: none;\n",
              "      border-radius: 50%;\n",
              "      cursor: pointer;\n",
              "      display: none;\n",
              "      fill: #1967D2;\n",
              "      height: 32px;\n",
              "      padding: 0 0 0 0;\n",
              "      width: 32px;\n",
              "    }\n",
              "\n",
              "    .colab-df-convert:hover {\n",
              "      background-color: #E2EBFA;\n",
              "      box-shadow: 0px 1px 2px rgba(60, 64, 67, 0.3), 0px 1px 3px 1px rgba(60, 64, 67, 0.15);\n",
              "      fill: #174EA6;\n",
              "    }\n",
              "\n",
              "    [theme=dark] .colab-df-convert {\n",
              "      background-color: #3B4455;\n",
              "      fill: #D2E3FC;\n",
              "    }\n",
              "\n",
              "    [theme=dark] .colab-df-convert:hover {\n",
              "      background-color: #434B5C;\n",
              "      box-shadow: 0px 1px 3px 1px rgba(0, 0, 0, 0.15);\n",
              "      filter: drop-shadow(0px 1px 2px rgba(0, 0, 0, 0.3));\n",
              "      fill: #FFFFFF;\n",
              "    }\n",
              "  </style>\n",
              "\n",
              "      <script>\n",
              "        const buttonEl =\n",
              "          document.querySelector('#df-1dae4a2e-e3ed-4c2b-b00c-811b5acad2ab button.colab-df-convert');\n",
              "        buttonEl.style.display =\n",
              "          google.colab.kernel.accessAllowed ? 'block' : 'none';\n",
              "\n",
              "        async function convertToInteractive(key) {\n",
              "          const element = document.querySelector('#df-1dae4a2e-e3ed-4c2b-b00c-811b5acad2ab');\n",
              "          const dataTable =\n",
              "            await google.colab.kernel.invokeFunction('convertToInteractive',\n",
              "                                                     [key], {});\n",
              "          if (!dataTable) return;\n",
              "\n",
              "          const docLinkHtml = 'Like what you see? Visit the ' +\n",
              "            '<a target=\"_blank\" href=https://colab.research.google.com/notebooks/data_table.ipynb>data table notebook</a>'\n",
              "            + ' to learn more about interactive tables.';\n",
              "          element.innerHTML = '';\n",
              "          dataTable['output_type'] = 'display_data';\n",
              "          await google.colab.output.renderOutput(dataTable, element);\n",
              "          const docLink = document.createElement('div');\n",
              "          docLink.innerHTML = docLinkHtml;\n",
              "          element.appendChild(docLink);\n",
              "        }\n",
              "      </script>\n",
              "    </div>\n",
              "  </div>\n",
              "  "
            ]
          },
          "metadata": {},
          "execution_count": 307
        }
      ]
    },
    {
      "cell_type": "code",
      "source": [
        "X=data_final.drop(['Happiness Score'],axis=1)\n",
        "y=data_final['Happiness Score']"
      ],
      "metadata": {
        "id": "Bv-WLpYukTH0"
      },
      "execution_count": 309,
      "outputs": []
    },
    {
      "cell_type": "code",
      "source": [
        "from sklearn.model_selection import train_test_split\n",
        "X_train,X_test,y_train,y_test=train_test_split(X,y,test_size=0.2)"
      ],
      "metadata": {
        "id": "whTvEavGSC6U"
      },
      "execution_count": 311,
      "outputs": []
    },
    {
      "cell_type": "code",
      "source": [
        "from sklearn.ensemble import RandomForestRegressor\n",
        "model=RandomForestRegressor()\n",
        "model.fit(X_train,y_train)\n",
        "pred =model.predict(X_test)\n",
        "pred"
      ],
      "metadata": {
        "colab": {
          "base_uri": "https://localhost:8080/"
        },
        "id": "3JUvJF1uSaul",
        "outputId": "d2c53010-0924-46ea-c7c0-468a7e448f66"
      },
      "execution_count": 312,
      "outputs": [
        {
          "output_type": "execute_result",
          "data": {
            "text/plain": [
              "array([7.10461   , 4.18044   , 7.06856002, 6.04104997, 6.05560001,\n",
              "       6.11445996, 5.20893998, 5.28552001, 5.35736002, 4.99068003,\n",
              "       6.05291998, 3.28274   , 4.16719   , 4.40396001, 4.73378002,\n",
              "       5.85148   , 6.27649002, 5.28285999, 6.25026999, 5.02156998,\n",
              "       4.76281001, 7.18626   , 4.13634001, 4.43889998, 7.23708   ,\n",
              "       7.41664999, 6.95519999, 7.41664   , 5.44614   , 4.29182   ,\n",
              "       5.90845   , 6.34578   , 4.20122   , 5.59814   , 5.62247002,\n",
              "       4.77134   , 4.35496997, 6.43214998, 3.95119999, 6.91579002,\n",
              "       4.18795   , 6.48596999, 5.70739   , 4.03707   , 3.42705   ,\n",
              "       6.27429   , 4.44249004, 5.64162999, 4.44786998, 6.05679999,\n",
              "       4.02934999, 4.07278001, 5.6931    , 5.41173001, 5.59576   ,\n",
              "       5.40895999, 5.97053   , 5.76924   , 4.63068   , 5.15129001,\n",
              "       4.17356001, 5.56009999, 5.08022001, 5.12465999, 7.45089997,\n",
              "       4.04794   , 3.99080998, 7.07138   , 5.7519    , 4.30828999,\n",
              "       4.99402999, 5.79539   , 6.25634   , 4.73513   , 3.87621999,\n",
              "       5.76116997, 3.87522   , 5.61309001, 4.18233999, 4.62494999,\n",
              "       7.18501999, 5.79215   , 6.53950002, 5.43235002, 5.07378   ,\n",
              "       6.09450998, 4.15499999, 6.02366001, 4.49894   , 6.7003    ,\n",
              "       4.87245996, 5.90024001, 5.82955996, 5.98774998, 5.99704   ,\n",
              "       6.45667999, 7.21706   , 5.14826999, 5.43724   , 4.12298998,\n",
              "       4.33777999, 6.51128998, 3.33686   , 5.91181002, 5.45607006,\n",
              "       7.08238999, 5.75614002, 4.35104002, 4.68425999, 4.98007998,\n",
              "       4.48715   , 3.83618   , 4.19940001, 4.28959   , 3.7373    ,\n",
              "       4.24703999, 7.16029   , 5.66040999, 5.84400999, 5.65360999,\n",
              "       6.82395001, 4.19948   , 4.46332   , 5.13204999, 3.74824998,\n",
              "       4.88274003, 6.85996999, 5.07185999, 6.35724999, 5.61182   ,\n",
              "       7.33717999, 4.12889   , 6.34011997, 7.37234999, 6.55692   ,\n",
              "       5.06051999, 4.27544   , 4.01905   , 4.10694999, 4.26253003,\n",
              "       4.38797   , 5.30546001, 6.28953   , 4.32551999, 5.84709003,\n",
              "       7.25403999, 4.82585002, 6.16062   , 4.24711001, 6.14343996,\n",
              "       6.50077997, 7.17440002, 6.85277   , 5.25438999, 6.07254   ,\n",
              "       3.81248999, 5.16438998])"
            ]
          },
          "metadata": {},
          "execution_count": 312
        }
      ]
    },
    {
      "cell_type": "code",
      "source": [
        "from sklearn.metrics import r2_score,mean_squared_error\n",
        "rmse=np.sqrt(mean_squared_error(y_test,pred))\n",
        "print(\"Root Mean Squared Error\",rmse)\n",
        "print(\"Accuracy\",model.score(X_test,y_test))\n",
        "print('r2 score',r2_score(y_test,pred))"
      ],
      "metadata": {
        "colab": {
          "base_uri": "https://localhost:8080/"
        },
        "id": "O00koDGgSpvy",
        "outputId": "db2ce28e-b1e5-43b1-dc65-147b60cef1a1"
      },
      "execution_count": 314,
      "outputs": [
        {
          "output_type": "stream",
          "name": "stdout",
          "text": [
            "Root Mean Squared Error 0.48853327115508793\n",
            "Accuracy 0.8153225409750852\n",
            "r2 score 0.8153225409750852\n"
          ]
        }
      ]
    },
    {
      "cell_type": "code",
      "source": [
        "compare=pd.DataFrame({'y_test':y_test,\"predictions\":pred})\n",
        "compare"
      ],
      "metadata": {
        "colab": {
          "base_uri": "https://localhost:8080/",
          "height": 455
        },
        "id": "2gp5gXukSs-1",
        "outputId": "9926d5ba-9dbb-47e1-a659-1f15e4dbc884"
      },
      "execution_count": 315,
      "outputs": [
        {
          "output_type": "execute_result",
          "data": {
            "text/plain": [
              "              y_test  predictions\n",
              "Country                          \n",
              "Norway         7.498      7.10461\n",
              "Sierra Leone   4.709      4.18044\n",
              "Netherlands    7.377      7.06856\n",
              "Italy          5.964      6.04105\n",
              "Uruguay        6.293      6.05560\n",
              "...              ...          ...\n",
              "Iceland        7.561      6.85277\n",
              "Nicaragua      5.828      5.25439\n",
              "China          5.191      6.07254\n",
              "Togo           3.999      3.81249\n",
              "Ukraine        4.681      5.16439\n",
              "\n",
              "[157 rows x 2 columns]"
            ],
            "text/html": [
              "\n",
              "  <div id=\"df-e7b6afa7-c200-433b-af05-1f779baeb32d\">\n",
              "    <div class=\"colab-df-container\">\n",
              "      <div>\n",
              "<style scoped>\n",
              "    .dataframe tbody tr th:only-of-type {\n",
              "        vertical-align: middle;\n",
              "    }\n",
              "\n",
              "    .dataframe tbody tr th {\n",
              "        vertical-align: top;\n",
              "    }\n",
              "\n",
              "    .dataframe thead th {\n",
              "        text-align: right;\n",
              "    }\n",
              "</style>\n",
              "<table border=\"1\" class=\"dataframe\">\n",
              "  <thead>\n",
              "    <tr style=\"text-align: right;\">\n",
              "      <th></th>\n",
              "      <th>y_test</th>\n",
              "      <th>predictions</th>\n",
              "    </tr>\n",
              "    <tr>\n",
              "      <th>Country</th>\n",
              "      <th></th>\n",
              "      <th></th>\n",
              "    </tr>\n",
              "  </thead>\n",
              "  <tbody>\n",
              "    <tr>\n",
              "      <th>Norway</th>\n",
              "      <td>7.498</td>\n",
              "      <td>7.10461</td>\n",
              "    </tr>\n",
              "    <tr>\n",
              "      <th>Sierra Leone</th>\n",
              "      <td>4.709</td>\n",
              "      <td>4.18044</td>\n",
              "    </tr>\n",
              "    <tr>\n",
              "      <th>Netherlands</th>\n",
              "      <td>7.377</td>\n",
              "      <td>7.06856</td>\n",
              "    </tr>\n",
              "    <tr>\n",
              "      <th>Italy</th>\n",
              "      <td>5.964</td>\n",
              "      <td>6.04105</td>\n",
              "    </tr>\n",
              "    <tr>\n",
              "      <th>Uruguay</th>\n",
              "      <td>6.293</td>\n",
              "      <td>6.05560</td>\n",
              "    </tr>\n",
              "    <tr>\n",
              "      <th>...</th>\n",
              "      <td>...</td>\n",
              "      <td>...</td>\n",
              "    </tr>\n",
              "    <tr>\n",
              "      <th>Iceland</th>\n",
              "      <td>7.561</td>\n",
              "      <td>6.85277</td>\n",
              "    </tr>\n",
              "    <tr>\n",
              "      <th>Nicaragua</th>\n",
              "      <td>5.828</td>\n",
              "      <td>5.25439</td>\n",
              "    </tr>\n",
              "    <tr>\n",
              "      <th>China</th>\n",
              "      <td>5.191</td>\n",
              "      <td>6.07254</td>\n",
              "    </tr>\n",
              "    <tr>\n",
              "      <th>Togo</th>\n",
              "      <td>3.999</td>\n",
              "      <td>3.81249</td>\n",
              "    </tr>\n",
              "    <tr>\n",
              "      <th>Ukraine</th>\n",
              "      <td>4.681</td>\n",
              "      <td>5.16439</td>\n",
              "    </tr>\n",
              "  </tbody>\n",
              "</table>\n",
              "<p>157 rows × 2 columns</p>\n",
              "</div>\n",
              "      <button class=\"colab-df-convert\" onclick=\"convertToInteractive('df-e7b6afa7-c200-433b-af05-1f779baeb32d')\"\n",
              "              title=\"Convert this dataframe to an interactive table.\"\n",
              "              style=\"display:none;\">\n",
              "        \n",
              "  <svg xmlns=\"http://www.w3.org/2000/svg\" height=\"24px\"viewBox=\"0 0 24 24\"\n",
              "       width=\"24px\">\n",
              "    <path d=\"M0 0h24v24H0V0z\" fill=\"none\"/>\n",
              "    <path d=\"M18.56 5.44l.94 2.06.94-2.06 2.06-.94-2.06-.94-.94-2.06-.94 2.06-2.06.94zm-11 1L8.5 8.5l.94-2.06 2.06-.94-2.06-.94L8.5 2.5l-.94 2.06-2.06.94zm10 10l.94 2.06.94-2.06 2.06-.94-2.06-.94-.94-2.06-.94 2.06-2.06.94z\"/><path d=\"M17.41 7.96l-1.37-1.37c-.4-.4-.92-.59-1.43-.59-.52 0-1.04.2-1.43.59L10.3 9.45l-7.72 7.72c-.78.78-.78 2.05 0 2.83L4 21.41c.39.39.9.59 1.41.59.51 0 1.02-.2 1.41-.59l7.78-7.78 2.81-2.81c.8-.78.8-2.07 0-2.86zM5.41 20L4 18.59l7.72-7.72 1.47 1.35L5.41 20z\"/>\n",
              "  </svg>\n",
              "      </button>\n",
              "      \n",
              "  <style>\n",
              "    .colab-df-container {\n",
              "      display:flex;\n",
              "      flex-wrap:wrap;\n",
              "      gap: 12px;\n",
              "    }\n",
              "\n",
              "    .colab-df-convert {\n",
              "      background-color: #E8F0FE;\n",
              "      border: none;\n",
              "      border-radius: 50%;\n",
              "      cursor: pointer;\n",
              "      display: none;\n",
              "      fill: #1967D2;\n",
              "      height: 32px;\n",
              "      padding: 0 0 0 0;\n",
              "      width: 32px;\n",
              "    }\n",
              "\n",
              "    .colab-df-convert:hover {\n",
              "      background-color: #E2EBFA;\n",
              "      box-shadow: 0px 1px 2px rgba(60, 64, 67, 0.3), 0px 1px 3px 1px rgba(60, 64, 67, 0.15);\n",
              "      fill: #174EA6;\n",
              "    }\n",
              "\n",
              "    [theme=dark] .colab-df-convert {\n",
              "      background-color: #3B4455;\n",
              "      fill: #D2E3FC;\n",
              "    }\n",
              "\n",
              "    [theme=dark] .colab-df-convert:hover {\n",
              "      background-color: #434B5C;\n",
              "      box-shadow: 0px 1px 3px 1px rgba(0, 0, 0, 0.15);\n",
              "      filter: drop-shadow(0px 1px 2px rgba(0, 0, 0, 0.3));\n",
              "      fill: #FFFFFF;\n",
              "    }\n",
              "  </style>\n",
              "\n",
              "      <script>\n",
              "        const buttonEl =\n",
              "          document.querySelector('#df-e7b6afa7-c200-433b-af05-1f779baeb32d button.colab-df-convert');\n",
              "        buttonEl.style.display =\n",
              "          google.colab.kernel.accessAllowed ? 'block' : 'none';\n",
              "\n",
              "        async function convertToInteractive(key) {\n",
              "          const element = document.querySelector('#df-e7b6afa7-c200-433b-af05-1f779baeb32d');\n",
              "          const dataTable =\n",
              "            await google.colab.kernel.invokeFunction('convertToInteractive',\n",
              "                                                     [key], {});\n",
              "          if (!dataTable) return;\n",
              "\n",
              "          const docLinkHtml = 'Like what you see? Visit the ' +\n",
              "            '<a target=\"_blank\" href=https://colab.research.google.com/notebooks/data_table.ipynb>data table notebook</a>'\n",
              "            + ' to learn more about interactive tables.';\n",
              "          element.innerHTML = '';\n",
              "          dataTable['output_type'] = 'display_data';\n",
              "          await google.colab.output.renderOutput(dataTable, element);\n",
              "          const docLink = document.createElement('div');\n",
              "          docLink.innerHTML = docLinkHtml;\n",
              "          element.appendChild(docLink);\n",
              "        }\n",
              "      </script>\n",
              "    </div>\n",
              "  </div>\n",
              "  "
            ]
          },
          "metadata": {},
          "execution_count": 315
        }
      ]
    },
    {
      "cell_type": "code",
      "source": [
        ""
      ],
      "metadata": {
        "id": "ZsZ4Sbv1Syxk"
      },
      "execution_count": null,
      "outputs": []
    }
  ],
  "metadata": {
    "colab": {
      "name": "World Happiness Report.ipynb",
      "provenance": [],
      "mount_file_id": "15rsQWQhUJ6-Qcsc59PSM2E7DjHBDSqPM",
      "authorship_tag": "ABX9TyPAazUcHyfV/nr892aAMpQL",
      "include_colab_link": true
    },
    "kernelspec": {
      "display_name": "Python 3",
      "name": "python3"
    },
    "language_info": {
      "name": "python"
    }
  },
  "nbformat": 4,
  "nbformat_minor": 0
}